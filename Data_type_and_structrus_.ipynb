{
  "nbformat": 4,
  "nbformat_minor": 0,
  "metadata": {
    "colab": {
      "provenance": []
    },
    "kernelspec": {
      "name": "python3",
      "display_name": "Python 3"
    },
    "language_info": {
      "name": "python"
    }
  },
  "cells": [
    {
      "cell_type": "markdown",
      "source": [
        "Data type and structrus"
      ],
      "metadata": {
        "id": "J6uWG9tdfmW1"
      }
    },
    {
      "cell_type": "markdown",
      "source": [
        "1. What are data structures, and why are they important?\n",
        " - A data structure is a specialized format for organizing, managing, and storing data so it can be accessed and modified efficiently. They are essential tools in computer science and programming, enabling developers to work with data in structured ways to solve problems effectively.\n",
        " Efficient Data Management: They help store and retrieve data efficiently, which is critical for performance, especially with large datasets.\n",
        "\n",
        "Optimized Algorithms: Choosing the right data structure can significantly enhance the performance of an algorithm, reducing time and space complexity.\n",
        "\n",
        "Scalability: Efficient data structures make applications scalable as they can handle increasing amounts of data gracefully.\n",
        "\n",
        "Problem Solving: Many programming problems are inherently tied to data organization. Understanding data structures enables developers to model and solve these problems effectively.\n",
        "\n",
        "Foundation for System Design: Data structures are fundamental in designing software systems, databases, operating systems, and network protocols."
      ],
      "metadata": {
        "id": "FY9LvNZKftVO"
      }
    },
    {
      "cell_type": "markdown",
      "source": [
        "2. Explain the difference between mutable and immutable data types with examples?\n",
        "- 1. Mutable Data Types\n",
        "Definition: These data types allow their contents to be changed (modified) after they are created.\n",
        "\n",
        "2. Immutable Data Types\n",
        "Definition: These data types do not allow modification after they are created. Any operation that appears to modify them creates a new object instead."
      ],
      "metadata": {
        "id": "DIFD7CCNgSJk"
      }
    },
    {
      "cell_type": "markdown",
      "source": [
        "3.  What are the main differences between lists and tuples in Python?\n",
        "- Mutability:\n",
        "\n",
        "List: Mutable (elements can be added, removed, or modified).\n",
        "Tuple: Immutable (elements cannot be changed after creation).\n",
        "Syntax:\n",
        "\n",
        "List: Defined using square brackets [].\n",
        "Tuple: Defined using parentheses ().\n",
        "Performance:\n",
        "\n",
        "List: Slower due to the overhead of supporting mutability.\n",
        "Tuple: Faster because of its immutability and fixed structure.\n",
        "Use Cases:\n",
        "\n",
        "List: Ideal for collections that need frequent updates or changes.\n",
        "Tuple: Best for fixed collections where data should remain constant.\n",
        "Memory Usage:\n",
        "\n",
        "List: Requires more memory as it supports dynamic resizing.\n",
        "Tuple: Requires less memory due to its static structure.\n",
        "Functions and Methods:\n",
        "\n",
        "List: Has many methods like append(), remove(), pop(), sort().\n",
        "Tuple: Limited methods like count() and index().\n",
        "Hashability:\n",
        "\n",
        "List: Not hashable, cannot be used as dictionary keys or set elements.\n",
        "Tuple: Hashable (if all elements are hashable), can be used as dictionary keys or set elements.\n",
        "Iteration Speed:\n",
        "\n",
        "List: Slightly slower due to its dynamic structure.\n",
        "Tuple: Faster because it is static and optimized.\n",
        "Nesting and Mutability:\n",
        "\n",
        "List: Nested lists can be modified.\n",
        "Tuple: Nested mutable elements (like lists inside a tuple) can still be modified, but the tuple structure remains unchanged.\n"
      ],
      "metadata": {
        "id": "2ICCtBZpg2UM"
      }
    },
    {
      "cell_type": "markdown",
      "source": [
        "4.  Describe how dictionaries store data?\n",
        "- Dictionaries in Python store data as key-value pairs using a hash table. Keys are hashed to compute their storage location in buckets. Hashing ensures fast lookups, insertions, and deletions with an average time complexity of\n",
        "𝑂\n",
        "(\n",
        "1\n",
        ")\n",
        "O(1). Collisions (when two keys hash to the same bucket) are handled using techniques like chaining or open addressing. As the dictionary grows, it resizes the hash table to maintain efficiency. Only immutable and hashable types can be used as keys."
      ],
      "metadata": {
        "id": "hToJ7oHchduJ"
      }
    },
    {
      "cell_type": "markdown",
      "source": [
        "5.  Why might you use a set instead of a list in Python?\n",
        "- You might use a set instead of a list when you need to ensure elements are unique, perform fast membership tests (\n",
        "𝑂\n",
        "(\n",
        "1\n",
        ")\n",
        "O(1)), or use efficient set operations like union, intersection, and difference."
      ],
      "metadata": {
        "id": "Z8t10xJNh478"
      }
    },
    {
      "cell_type": "markdown",
      "source": [
        "6.  What is a string in Python, and how is it different from a list?\n",
        "- A string in Python is an immutable sequence of characters used to represent text. Unlike a list, which is mutable and can store any data types, a string is immutable and stores only characters. Modifying a string creates a new object, while a list can be modified in place."
      ],
      "metadata": {
        "id": "BhXY7FGmiWHo"
      }
    },
    {
      "cell_type": "markdown",
      "source": [
        "7.  How do tuples ensure data integrity in Python?\n",
        "- Tuples ensure data integrity in Python because they are immutable, meaning their contents cannot be changed after creation. This immutability prevents accidental modification, making tuples ideal for storing fixed collections of data or as keys in dictionaries."
      ],
      "metadata": {
        "id": "eDsthU8kimCQ"
      }
    },
    {
      "cell_type": "markdown",
      "source": [
        "8.  What is a hash table, and how does it relate to dictionaries in Python?\n",
        "- A hash table is a data structure that stores key-value pairs, where keys are hashed to determine their storage location. In Python, dictionaries are implemented using hash tables, allowing for fast lookups, insertions, and deletions by using the hash value of the keys. The keys in a dictionary are hashed, and their values are stored based on the resulting hash."
      ],
      "metadata": {
        "id": "wVPp52HQi4Gk"
      }
    },
    {
      "cell_type": "markdown",
      "source": [
        "9. Can lists contain different data types in Python?\n",
        "- Yes, lists in Python can contain elements of different data types, such as integers, strings, and other objects, all within the same list."
      ],
      "metadata": {
        "id": "mH4c9CvQjKN_"
      }
    },
    {
      "cell_type": "markdown",
      "source": [
        "10.  Explain why strings are immutable in Python?\n",
        "- Strings are immutable in Python to ensure efficiency and data integrity. Once a string is created, its content cannot be changed. This immutability allows Python to optimize memory usage by reusing string objects and guarantees that strings remain consistent throughout the program, preventing accidental modifications. When a modification is needed, a new string object is created, rather than altering the original."
      ],
      "metadata": {
        "id": "to0To6oNja-B"
      }
    },
    {
      "cell_type": "markdown",
      "source": [
        "11. What advantages do dictionaries offer over lists for certain tasks?\n",
        "- Dictionaries offer several advantages over lists for certain tasks:\n",
        "\n",
        "Fast Lookup: Dictionaries provide O(1) average-time complexity for key-based lookups, making them much faster than lists, which require O(n) time for searching.\n",
        "\n",
        "Key-Value Pair Storage: Dictionaries store data as key-value pairs, allowing for more meaningful organization and easy access to values based on unique keys.\n",
        "\n",
        "No Duplicates: Unlike lists, dictionaries prevent duplicate keys, ensuring unique data mapping.\n",
        "\n",
        "Efficient Modifications: Adding, updating, or removing key-value pairs in a dictionary is generally more efficient than modifying a list when dealing with large datasets or frequent updates."
      ],
      "metadata": {
        "id": "_fSLkW8pjrtn"
      }
    },
    {
      "cell_type": "markdown",
      "source": [
        "12.  Describe a scenario where using a tuple would be preferable over a list?\n",
        "- Using a tuple would be preferable over a list when you need a fixed collection of elements that should not be modified, such as storing coordinates (e.g., (x, y)) or representing constant data like RGB values. Tuples ensure data integrity and are more memory-efficient and faster for iteration compared to lists.\n",
        "\n",
        "\n",
        "\n",
        "\n",
        "\n",
        "\n"
      ],
      "metadata": {
        "id": "oSXX0HANj8aw"
      }
    },
    {
      "cell_type": "markdown",
      "source": [
        "13.  How do sets handle duplicate values in Python?\n",
        "- Sets in Python automatically remove duplicates. When you add elements to a set, it only keeps unique values, discarding any duplicates. This ensures that every element in a set is distinct. If you try to add a duplicate value, the set will remain unchanged"
      ],
      "metadata": {
        "id": "tBWYCpVqkQqm"
      }
    },
    {
      "cell_type": "markdown",
      "source": [
        "14.  How does the “in” keyword work differently for lists and dictionaries?\n",
        "- The \"in\" keyword works differently for lists and dictionaries in Python:\n",
        "\n",
        "For lists, \"in\" checks if a value is present as an element in the list. It iterates through the list and returns True if the value is found."
      ],
      "metadata": {
        "id": "zCymxwi9kifL"
      }
    },
    {
      "cell_type": "markdown",
      "source": [
        "15.  Can you modify the elements of a tuple? Explain why or why not?\n",
        "- No, you cannot modify the elements of a tuple in Python because tuples are immutable. Once a tuple is created, its contents cannot be changed. This immutability ensures data integrity, making tuples ideal for storing fixed collections of data. If you need to change the elements, you must create a new tuple. However, if a tuple contains mutable elements (like a list), those elements can be modified, but the tuple's structure itself cannot be altered."
      ],
      "metadata": {
        "id": "FJp9ZXT0k4YC"
      }
    },
    {
      "cell_type": "markdown",
      "source": [
        "16. What is a nested dictionary, and give an example of its use case?\n",
        "-A nested dictionary is a dictionary within a dictionary, used to represent complex hierarchical data structures. It allows you to store multiple layers of key-value pairs."
      ],
      "metadata": {
        "id": "c8ECzOvglJzG"
      }
    },
    {
      "cell_type": "markdown",
      "source": [
        " 17.  Describe the time complexity of accessing elements in a dictionary?\n",
        " - The time complexity of accessing elements in a dictionary is O(1) on average because dictionaries use a hash table for storage, allowing for constant-time lookups. However, in the worst case (e.g., hash collisions), the complexity can degrade to O(n), where\n",
        "𝑛\n",
        "n is the number of elements in the dictionary."
      ],
      "metadata": {
        "id": "6nTlglrzUYOz"
      }
    },
    {
      "cell_type": "markdown",
      "source": [
        " 18.  In what situations are lists preferred over dictionaries?\n",
        " - Lists are preferred over dictionaries when:\n",
        "\n",
        "Order Matters: Lists maintain the order of elements, useful for sequential data.\n",
        "Simple Data: Storing a collection of values without key-value pairs.\n",
        "Index-Based Access: When accessing elements by position is required.\n",
        "Memory Efficiency: Lists are more memory-efficient for storing a simple collection."
      ],
      "metadata": {
        "id": "4vmlYcj9UvcM"
      }
    },
    {
      "cell_type": "markdown",
      "source": [
        " 19. Why are dictionaries considered unordered, and how does that affect data retrieval?\n",
        " - Dictionaries are considered unordered because their elements are stored based on hash values, not in the order they were added. However, in Python 3.7+, dictionaries maintain insertion order as an implementation detail.\n",
        "\n",
        "This unordered nature means you cannot rely on the order of items for retrieval. Instead, data is accessed directly by keys, ensuring efficient lookups regardless of the order of insertion."
      ],
      "metadata": {
        "id": "TlSXd-QBU-94"
      }
    },
    {
      "cell_type": "markdown",
      "source": [
        "20. Explain the difference between a list and a dictionary in terms of data retrieval.?\n",
        "- The key difference in data retrieval between a list and a dictionary is:\n",
        "\n",
        "List: Elements are accessed by their index (e.g., my_list[0]), with time complexity\n",
        "𝑂\n",
        "(\n",
        "1\n",
        ")\n",
        "O(1). Suitable for ordered, sequential data.\n",
        "Dictionary: Elements are accessed by their key (e.g., my_dict[\"key\"]), also with average time complexity\n",
        "𝑂\n",
        "(\n",
        "1\n",
        ")\n",
        "O(1). Ideal for unordered data with key-value relationships."
      ],
      "metadata": {
        "id": "7jNYhdnlVOSz"
      }
    },
    {
      "cell_type": "markdown",
      "source": [
        "Prectical question"
      ],
      "metadata": {
        "id": "BAYUAUnbVk0P"
      }
    },
    {
      "cell_type": "markdown",
      "source": [
        "1. Write a code to create a string with your name and print it?\n",
        "-"
      ],
      "metadata": {
        "id": "Gzm5WoyqVnxv"
      }
    },
    {
      "cell_type": "code",
      "source": [
        "name = \"Chhavi\"\n",
        "print(name)\n"
      ],
      "metadata": {
        "colab": {
          "base_uri": "https://localhost:8080/"
        },
        "id": "NzAV4KtRV32p",
        "outputId": "5115c537-75ab-4a97-95fb-b1ef2dacb760"
      },
      "execution_count": 2,
      "outputs": [
        {
          "output_type": "stream",
          "name": "stdout",
          "text": [
            "Chhavi\n"
          ]
        }
      ]
    },
    {
      "cell_type": "markdown",
      "source": [
        "2.  Write a code to find the length of the string \"Hello World\"?"
      ],
      "metadata": {
        "id": "DJoIPQ21WClp"
      }
    },
    {
      "cell_type": "code",
      "source": [
        "text = \"Hello World\"\n",
        "length = len(text)\n",
        "print(length)\n"
      ],
      "metadata": {
        "colab": {
          "base_uri": "https://localhost:8080/"
        },
        "id": "PHTjrJySWJO4",
        "outputId": "d655c1d2-6673-4f51-d9f9-4becd6ac9cf2"
      },
      "execution_count": 3,
      "outputs": [
        {
          "output_type": "stream",
          "name": "stdout",
          "text": [
            "11\n"
          ]
        }
      ]
    },
    {
      "cell_type": "markdown",
      "source": [
        "3. Write a code to slice the first 3 characters from the string \"Python Programming"
      ],
      "metadata": {
        "id": "oNRKXBAYWvpn"
      }
    },
    {
      "cell_type": "code",
      "source": [
        "text = \"Python Programming\"\n",
        "sliced_text = text[:3]\n",
        "print(sliced_text)\n"
      ],
      "metadata": {
        "colab": {
          "base_uri": "https://localhost:8080/"
        },
        "id": "TNlCdGlkWzrj",
        "outputId": "222cb85c-917c-4ab9-8072-102d75774037"
      },
      "execution_count": 4,
      "outputs": [
        {
          "output_type": "stream",
          "name": "stdout",
          "text": [
            "Pyt\n"
          ]
        }
      ]
    },
    {
      "cell_type": "markdown",
      "source": [
        "4. Write a code to convert the string \"hello\" to uppercase"
      ],
      "metadata": {
        "id": "2MxQIIOAW6to"
      }
    },
    {
      "cell_type": "code",
      "source": [
        "text = \"hello\"\n",
        "uppercase_text = text.upper()\n",
        "print(uppercase_text)\n"
      ],
      "metadata": {
        "colab": {
          "base_uri": "https://localhost:8080/"
        },
        "id": "RrapGRCyXCRj",
        "outputId": "50a60157-7a73-44aa-ee42-9df7cfeccb91"
      },
      "execution_count": 5,
      "outputs": [
        {
          "output_type": "stream",
          "name": "stdout",
          "text": [
            "HELLO\n"
          ]
        }
      ]
    },
    {
      "cell_type": "markdown",
      "source": [
        "5.  Write a code to replace the word \"apple\" with \"orange\" in the string \"I like apple\""
      ],
      "metadata": {
        "id": "edeMdjG6XD9e"
      }
    },
    {
      "cell_type": "code",
      "source": [
        "text = \"I like apple\"\n",
        "updated_text = text.replace(\"apple\", \"orange\")\n",
        "print(updated_text)\n"
      ],
      "metadata": {
        "colab": {
          "base_uri": "https://localhost:8080/"
        },
        "id": "SFFR19SFXI4V",
        "outputId": "1a817dd7-9e3d-4d7d-c30b-8ad3e57c083a"
      },
      "execution_count": 6,
      "outputs": [
        {
          "output_type": "stream",
          "name": "stdout",
          "text": [
            "I like orange\n"
          ]
        }
      ]
    },
    {
      "cell_type": "markdown",
      "source": [
        "6. Write a code to create a list with numbers 1 to 5 and print it"
      ],
      "metadata": {
        "id": "i0VBiO7pXPsH"
      }
    },
    {
      "cell_type": "code",
      "source": [
        "numbers = [1, 2, 3, 4, 5]\n",
        "print(numbers)\n"
      ],
      "metadata": {
        "colab": {
          "base_uri": "https://localhost:8080/"
        },
        "id": "FYqs8L-DXTzB",
        "outputId": "0e64243c-f3ef-4c42-8a1e-0d7e9b483f4f"
      },
      "execution_count": 7,
      "outputs": [
        {
          "output_type": "stream",
          "name": "stdout",
          "text": [
            "[1, 2, 3, 4, 5]\n"
          ]
        }
      ]
    },
    {
      "cell_type": "markdown",
      "source": [
        "7. Write a code to append the number 10 to the list [1, 2, 3, 4]"
      ],
      "metadata": {
        "id": "s0A3bjDSXYsK"
      }
    },
    {
      "cell_type": "code",
      "source": [
        "numbers = [1, 2, 3, 4]\n",
        "numbers.append(10)\n",
        "print(numbers)\n"
      ],
      "metadata": {
        "colab": {
          "base_uri": "https://localhost:8080/"
        },
        "id": "nf9x56_2Xgxe",
        "outputId": "09597107-aad4-4fec-fe7a-31845fe9488a"
      },
      "execution_count": 8,
      "outputs": [
        {
          "output_type": "stream",
          "name": "stdout",
          "text": [
            "[1, 2, 3, 4, 10]\n"
          ]
        }
      ]
    },
    {
      "cell_type": "markdown",
      "source": [
        "8. Write a code to remove the number 3 from the list [1, 2, 3, 4, 5]"
      ],
      "metadata": {
        "id": "jCLNt-ZUXi98"
      }
    },
    {
      "cell_type": "code",
      "source": [
        "numbers = [1, 2, 3, 4, 5]\n",
        "numbers.remove(3)\n",
        "print(numbers)\n"
      ],
      "metadata": {
        "colab": {
          "base_uri": "https://localhost:8080/"
        },
        "id": "0atxYg3KXmqZ",
        "outputId": "6bfd8932-7c80-403e-9d06-e2f5363d6207"
      },
      "execution_count": 9,
      "outputs": [
        {
          "output_type": "stream",
          "name": "stdout",
          "text": [
            "[1, 2, 4, 5]\n"
          ]
        }
      ]
    },
    {
      "cell_type": "markdown",
      "source": [
        "9. Write a code to access the second element in the list ['a', 'b', 'c', 'd']"
      ],
      "metadata": {
        "id": "7hsK0NYpXsJQ"
      }
    },
    {
      "cell_type": "code",
      "source": [
        "letters = ['a', 'b', 'c', 'd']\n",
        "second_element = letters[1]\n",
        "print(second_element)\n"
      ],
      "metadata": {
        "colab": {
          "base_uri": "https://localhost:8080/"
        },
        "id": "OYv2hz78XxNf",
        "outputId": "c0fa05a1-b044-4803-ecbc-35ab666fa237"
      },
      "execution_count": 10,
      "outputs": [
        {
          "output_type": "stream",
          "name": "stdout",
          "text": [
            "b\n"
          ]
        }
      ]
    },
    {
      "cell_type": "markdown",
      "source": [
        "10. Write a code to reverse the list [10, 20, 30, 40, 50]"
      ],
      "metadata": {
        "id": "2YdFLDm-X33y"
      }
    },
    {
      "cell_type": "code",
      "source": [
        "numbers = [10, 20, 30, 40, 50]\n",
        "numbers.reverse()\n",
        "print(numbers)\n"
      ],
      "metadata": {
        "colab": {
          "base_uri": "https://localhost:8080/"
        },
        "id": "KrTrOuWXX8QL",
        "outputId": "35d62b1c-653b-448d-be52-257bb718f7a6"
      },
      "execution_count": 11,
      "outputs": [
        {
          "output_type": "stream",
          "name": "stdout",
          "text": [
            "[50, 40, 30, 20, 10]\n"
          ]
        }
      ]
    },
    {
      "cell_type": "markdown",
      "source": [
        "11. Write a code to create a tuple with the elements 10, 20, 30 and print it."
      ],
      "metadata": {
        "id": "lcMm4RtMYFsN"
      }
    },
    {
      "cell_type": "code",
      "source": [
        "my_tuple = (10, 20, 30)\n",
        "print(my_tuple)\n"
      ],
      "metadata": {
        "colab": {
          "base_uri": "https://localhost:8080/"
        },
        "id": "MZ4c1oAmYMXa",
        "outputId": "3e27e90d-f929-483b-a9fb-51cecf2f9c50"
      },
      "execution_count": 12,
      "outputs": [
        {
          "output_type": "stream",
          "name": "stdout",
          "text": [
            "(10, 20, 30)\n"
          ]
        }
      ]
    },
    {
      "cell_type": "markdown",
      "source": [
        "12. Write a code to access the first element of the tuple ('apple', 'banana', 'cherry')."
      ],
      "metadata": {
        "id": "1Dh3ttorYS4R"
      }
    },
    {
      "cell_type": "code",
      "source": [
        "fruits = ('apple', 'banana', 'cherry')\n",
        "first_element = fruits[0]\n",
        "print(first_element)\n"
      ],
      "metadata": {
        "colab": {
          "base_uri": "https://localhost:8080/"
        },
        "id": "q8fpLp3BYXbl",
        "outputId": "c78d85d1-fabf-4f85-8c4b-e0628cd29a90"
      },
      "execution_count": 13,
      "outputs": [
        {
          "output_type": "stream",
          "name": "stdout",
          "text": [
            "apple\n"
          ]
        }
      ]
    },
    {
      "cell_type": "markdown",
      "source": [
        "13.  Write a code to count how many times the number 2 appears in the tuple (1, 2, 3, 2, 4, 2)"
      ],
      "metadata": {
        "id": "W6HwSVTDYpAA"
      }
    },
    {
      "cell_type": "code",
      "source": [
        "my_tuple = (1, 2, 3, 2, 4, 2)\n",
        "count_2 = my_tuple.count(2)\n",
        "print(count_2)\n"
      ],
      "metadata": {
        "colab": {
          "base_uri": "https://localhost:8080/"
        },
        "id": "de0Wbg2kYxxg",
        "outputId": "7a860dea-a86a-4e4d-efc2-fa96e69823bb"
      },
      "execution_count": 14,
      "outputs": [
        {
          "output_type": "stream",
          "name": "stdout",
          "text": [
            "3\n"
          ]
        }
      ]
    },
    {
      "cell_type": "markdown",
      "source": [
        "14.  Write a code to find the index of the element \"cat\" in the tuple ('dog', 'cat', 'rabbit')."
      ],
      "metadata": {
        "id": "Ni2lYIxiY4sb"
      }
    },
    {
      "cell_type": "code",
      "source": [
        "my_tuple = ('dog', 'cat', 'rabbit')\n",
        "index_of_cat = my_tuple.index('cat')\n",
        "print(index_of_cat)\n"
      ],
      "metadata": {
        "colab": {
          "base_uri": "https://localhost:8080/"
        },
        "id": "dzSlTak0ZBA0",
        "outputId": "a50dbff5-9e2d-4de2-db3a-479538da3d7e"
      },
      "execution_count": 15,
      "outputs": [
        {
          "output_type": "stream",
          "name": "stdout",
          "text": [
            "1\n"
          ]
        }
      ]
    },
    {
      "cell_type": "markdown",
      "source": [
        "15.  Write a code to check if the element \"banana\" is in the tuple ('apple', 'orange', 'banana')."
      ],
      "metadata": {
        "id": "mQD-TgjoZCcI"
      }
    },
    {
      "cell_type": "code",
      "source": [
        "my_tuple = ('apple', 'orange', 'banana')\n",
        "is_banana_present = 'banana' in my_tuple\n",
        "print(is_banana_present)\n"
      ],
      "metadata": {
        "colab": {
          "base_uri": "https://localhost:8080/"
        },
        "id": "ri8puytpZIbF",
        "outputId": "648fae89-2e95-44c3-c5fb-c64dd387100c"
      },
      "execution_count": 16,
      "outputs": [
        {
          "output_type": "stream",
          "name": "stdout",
          "text": [
            "True\n"
          ]
        }
      ]
    },
    {
      "cell_type": "markdown",
      "source": [
        "16. Write a code to create a set with the elements 1, 2, 3, 4, 5 and print it."
      ],
      "metadata": {
        "id": "Pj-zwxPkZPOg"
      }
    },
    {
      "cell_type": "code",
      "source": [
        "my_set = {1, 2, 3, 4, 5}\n",
        "print(my_set)\n"
      ],
      "metadata": {
        "colab": {
          "base_uri": "https://localhost:8080/"
        },
        "id": "a9M7Ij3oZUGs",
        "outputId": "de6b6c10-fc85-4bf9-aa16-a87ec0fa5ceb"
      },
      "execution_count": 17,
      "outputs": [
        {
          "output_type": "stream",
          "name": "stdout",
          "text": [
            "{1, 2, 3, 4, 5}\n"
          ]
        }
      ]
    },
    {
      "cell_type": "markdown",
      "source": [
        "17.  Write a code to add the element 6 to the set {1, 2, 3, 4}."
      ],
      "metadata": {
        "id": "L4tHjbS6Za0D"
      }
    },
    {
      "cell_type": "code",
      "source": [
        "my_set = {1, 2, 3, 4}\n",
        "my_set.add(6)\n",
        "print(my_set)\n"
      ],
      "metadata": {
        "colab": {
          "base_uri": "https://localhost:8080/"
        },
        "id": "TZ12DLOeZfYY",
        "outputId": "a041f183-c5b0-4ab4-f8f8-93373ae211b4"
      },
      "execution_count": 18,
      "outputs": [
        {
          "output_type": "stream",
          "name": "stdout",
          "text": [
            "{1, 2, 3, 4, 6}\n"
          ]
        }
      ]
    },
    {
      "cell_type": "markdown",
      "source": [
        "18.  Write a code to create a tuple with the elements 10, 20, 30 and print it"
      ],
      "metadata": {
        "id": "V_nfGuKRZmde"
      }
    },
    {
      "cell_type": "code",
      "source": [
        "my_tuple = (10, 20, 30)\n",
        "print(my_tuple)\n"
      ],
      "metadata": {
        "colab": {
          "base_uri": "https://localhost:8080/"
        },
        "id": "NqM8DJi0ZqNW",
        "outputId": "0f7b7647-34fd-474d-d56a-cdeeb636512b"
      },
      "execution_count": 19,
      "outputs": [
        {
          "output_type": "stream",
          "name": "stdout",
          "text": [
            "(10, 20, 30)\n"
          ]
        }
      ]
    },
    {
      "cell_type": "markdown",
      "source": [
        "19. Write a code to access the first element of the tuple ('apple', 'banana', 'cherry')."
      ],
      "metadata": {
        "id": "kYs_yWoMZvhr"
      }
    },
    {
      "cell_type": "code",
      "source": [
        "my_tuple = ('apple', 'banana', 'cherry')\n",
        "first_element = my_tuple[0]\n",
        "print(first_element)\n"
      ],
      "metadata": {
        "colab": {
          "base_uri": "https://localhost:8080/"
        },
        "id": "P4on1Hv_Z0dY",
        "outputId": "a7dae18b-fc3c-4af2-f1da-f6138593d3db"
      },
      "execution_count": 20,
      "outputs": [
        {
          "output_type": "stream",
          "name": "stdout",
          "text": [
            "apple\n"
          ]
        }
      ]
    },
    {
      "cell_type": "markdown",
      "source": [
        "20. Write a code to count how many times the number 2 appears in the tuple (1, 2, 3, 2, 4, 2)."
      ],
      "metadata": {
        "id": "yPsprOXSZ5mk"
      }
    },
    {
      "cell_type": "code",
      "source": [
        "my_tuple = ('apple', 'banana', 'cherry')\n",
        "first_element = my_tuple[0]\n",
        "print(first_element)\n"
      ],
      "metadata": {
        "colab": {
          "base_uri": "https://localhost:8080/"
        },
        "id": "WhN1kpwWZ-MC",
        "outputId": "e3b285c8-c899-4ac5-a086-1758b1f6b9fe"
      },
      "execution_count": 21,
      "outputs": [
        {
          "output_type": "stream",
          "name": "stdout",
          "text": [
            "apple\n"
          ]
        }
      ]
    },
    {
      "cell_type": "markdown",
      "source": [
        "21. Write a code to find the index of the element \"cat\" in the tuple ('dog', 'cat', 'rabbit')."
      ],
      "metadata": {
        "id": "YtBNjCQAaLIR"
      }
    },
    {
      "cell_type": "code",
      "source": [
        "my_tuple = (1, 2, 3, 2, 4, 2)\n",
        "count_2 = my_tuple.count(2)\n",
        "print(count_2)\n"
      ],
      "metadata": {
        "colab": {
          "base_uri": "https://localhost:8080/"
        },
        "id": "COdabKnCaVqZ",
        "outputId": "7c9cd703-398f-4388-d4c8-18a485fb8ad4"
      },
      "execution_count": 22,
      "outputs": [
        {
          "output_type": "stream",
          "name": "stdout",
          "text": [
            "3\n"
          ]
        }
      ]
    },
    {
      "cell_type": "markdown",
      "source": [
        "22. Write a code to check if the element \"banana\" is in the tuple ('apple', 'orange', 'banana')"
      ],
      "metadata": {
        "id": "oHDpvt-0aXpW"
      }
    },
    {
      "cell_type": "code",
      "source": [
        "my_tuple = ('dog', 'cat', 'rabbit')\n",
        "index_of_cat = my_tuple.index('cat')\n",
        "print(index_of_cat)\n"
      ],
      "metadata": {
        "colab": {
          "base_uri": "https://localhost:8080/"
        },
        "id": "y8flC41hacHO",
        "outputId": "d2d6f8b4-c4ae-4968-f003-b9d6f10484a7"
      },
      "execution_count": 23,
      "outputs": [
        {
          "output_type": "stream",
          "name": "stdout",
          "text": [
            "1\n"
          ]
        }
      ]
    },
    {
      "cell_type": "markdown",
      "source": [
        "23. . Write a code to create a set with the elements 1, 2, 3, 4, 5 and print it"
      ],
      "metadata": {
        "id": "RIQXvvaTaikf"
      }
    },
    {
      "cell_type": "code",
      "source": [
        "my_set = {1, 2, 3, 4, 5}\n",
        "print(my_set)\n"
      ],
      "metadata": {
        "colab": {
          "base_uri": "https://localhost:8080/"
        },
        "id": "HNBLx6X5am9i",
        "outputId": "b5181153-7df8-47d8-b86a-d01977852e73"
      },
      "execution_count": 24,
      "outputs": [
        {
          "output_type": "stream",
          "name": "stdout",
          "text": [
            "{1, 2, 3, 4, 5}\n"
          ]
        }
      ]
    },
    {
      "cell_type": "markdown",
      "source": [
        "24. Write a code to add the element 6 to the set {1, 2, 3, 4}"
      ],
      "metadata": {
        "id": "y_CkxvKFar68"
      }
    },
    {
      "cell_type": "code",
      "source": [
        "my_set = {1, 2, 3, 4}\n",
        "my_set.add(6)\n",
        "print(my_set)\n"
      ],
      "metadata": {
        "colab": {
          "base_uri": "https://localhost:8080/"
        },
        "id": "bOqvoxhdawgP",
        "outputId": "cd6152e6-f2f9-4841-8fcd-265abcd8a9b1"
      },
      "execution_count": 25,
      "outputs": [
        {
          "output_type": "stream",
          "name": "stdout",
          "text": [
            "{1, 2, 3, 4, 6}\n"
          ]
        }
      ]
    }
  ]
}